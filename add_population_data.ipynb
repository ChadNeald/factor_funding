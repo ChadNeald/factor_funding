{
 "cells": [
  {
   "cell_type": "code",
   "execution_count": 3,
   "metadata": {},
   "outputs": [],
   "source": [
    "import pandas as pd\n",
    "import altair as alt"
   ]
  },
  {
   "cell_type": "code",
   "execution_count": 4,
   "metadata": {},
   "outputs": [],
   "source": [
    "factor_data = pd.read_csv(\"data/processed/final_recipients_edited.csv\")"
   ]
  },
  {
   "cell_type": "code",
   "execution_count": 5,
   "metadata": {},
   "outputs": [],
   "source": [
    "# Read in the provincial population estimates\n",
    "pop_data = pd.read_csv(\"data/raw/province_populations_q1_2020.csv\")\n",
    "\n",
    "# Clean the population data into the same form as the FACTOR data\n",
    "pop_data = pop_data[['GEO', \"VALUE\"]][1:]\n",
    "pop_data = pop_data.rename(columns={\"GEO\": \"applicant_province\", \"VALUE\": \"population\"})\n",
    "pop_data = pop_data.replace(\"Quebec\", \"Québec\")\n",
    "pop_data['population'] = pd.to_numeric(pop_data[\"population\"])"
   ]
  },
  {
   "cell_type": "code",
   "execution_count": 6,
   "metadata": {},
   "outputs": [],
   "source": [
    "# Find the offer sum for each province\n",
    "province_offer_sums = pd.DataFrame(factor_data.groupby(\"applicant_province\")[\"offer\"].sum())\n",
    "province_offer_sums = province_offer_sums.reset_index()\n",
    "province_offer_sums = province_offer_sums.rename(columns={'offer': 'offer_sum'})"
   ]
  },
  {
   "cell_type": "code",
   "execution_count": 7,
   "metadata": {},
   "outputs": [],
   "source": [
    "# Combine the provincial offer sum data with the population data\n",
    "province_offer_pop = province_offer_sums.merge(pop_data)\n",
    "\n",
    "# Calculate the ratio of offer to population\n",
    "province_offer_pop['offer_pop_ratio'] = province_offer_pop['offer_sum']/province_offer_pop['population']"
   ]
  },
  {
   "cell_type": "code",
   "execution_count": 8,
   "metadata": {},
   "outputs": [
    {
     "data": {
      "text/html": [
       "<div>\n",
       "<style scoped>\n",
       "    .dataframe tbody tr th:only-of-type {\n",
       "        vertical-align: middle;\n",
       "    }\n",
       "\n",
       "    .dataframe tbody tr th {\n",
       "        vertical-align: top;\n",
       "    }\n",
       "\n",
       "    .dataframe thead th {\n",
       "        text-align: right;\n",
       "    }\n",
       "</style>\n",
       "<table border=\"1\" class=\"dataframe\">\n",
       "  <thead>\n",
       "    <tr style=\"text-align: right;\">\n",
       "      <th></th>\n",
       "      <th>applicant_province</th>\n",
       "      <th>offer_sum</th>\n",
       "      <th>population</th>\n",
       "      <th>offer_pop_ratio</th>\n",
       "    </tr>\n",
       "  </thead>\n",
       "  <tbody>\n",
       "    <tr>\n",
       "      <th>0</th>\n",
       "      <td>Alberta</td>\n",
       "      <td>4951575.45</td>\n",
       "      <td>4402045</td>\n",
       "      <td>1.124835</td>\n",
       "    </tr>\n",
       "    <tr>\n",
       "      <th>1</th>\n",
       "      <td>British Columbia</td>\n",
       "      <td>11436599.51</td>\n",
       "      <td>5131575</td>\n",
       "      <td>2.228672</td>\n",
       "    </tr>\n",
       "    <tr>\n",
       "      <th>2</th>\n",
       "      <td>Manitoba</td>\n",
       "      <td>3301233.73</td>\n",
       "      <td>1377004</td>\n",
       "      <td>2.397403</td>\n",
       "    </tr>\n",
       "    <tr>\n",
       "      <th>3</th>\n",
       "      <td>New Brunswick</td>\n",
       "      <td>420930.43</td>\n",
       "      <td>780040</td>\n",
       "      <td>0.539627</td>\n",
       "    </tr>\n",
       "    <tr>\n",
       "      <th>4</th>\n",
       "      <td>Newfoundland and Labrador</td>\n",
       "      <td>494752.66</td>\n",
       "      <td>523631</td>\n",
       "      <td>0.944850</td>\n",
       "    </tr>\n",
       "    <tr>\n",
       "      <th>5</th>\n",
       "      <td>Northwest Territories</td>\n",
       "      <td>32838.50</td>\n",
       "      <td>45119</td>\n",
       "      <td>0.727820</td>\n",
       "    </tr>\n",
       "    <tr>\n",
       "      <th>6</th>\n",
       "      <td>Nova Scotia</td>\n",
       "      <td>2310325.52</td>\n",
       "      <td>975898</td>\n",
       "      <td>2.367384</td>\n",
       "    </tr>\n",
       "    <tr>\n",
       "      <th>7</th>\n",
       "      <td>Nunavut</td>\n",
       "      <td>45000.00</td>\n",
       "      <td>38726</td>\n",
       "      <td>1.162010</td>\n",
       "    </tr>\n",
       "    <tr>\n",
       "      <th>8</th>\n",
       "      <td>Ontario</td>\n",
       "      <td>36342149.03</td>\n",
       "      <td>14689075</td>\n",
       "      <td>2.474094</td>\n",
       "    </tr>\n",
       "    <tr>\n",
       "      <th>9</th>\n",
       "      <td>Prince Edward Island</td>\n",
       "      <td>629170.10</td>\n",
       "      <td>158629</td>\n",
       "      <td>3.966299</td>\n",
       "    </tr>\n",
       "    <tr>\n",
       "      <th>10</th>\n",
       "      <td>Québec</td>\n",
       "      <td>10700441.67</td>\n",
       "      <td>8556650</td>\n",
       "      <td>1.250541</td>\n",
       "    </tr>\n",
       "    <tr>\n",
       "      <th>11</th>\n",
       "      <td>Saskatchewan</td>\n",
       "      <td>749433.19</td>\n",
       "      <td>1179154</td>\n",
       "      <td>0.635569</td>\n",
       "    </tr>\n",
       "    <tr>\n",
       "      <th>12</th>\n",
       "      <td>Yukon</td>\n",
       "      <td>27974.50</td>\n",
       "      <td>41731</td>\n",
       "      <td>0.670353</td>\n",
       "    </tr>\n",
       "  </tbody>\n",
       "</table>\n",
       "</div>"
      ],
      "text/plain": [
       "           applicant_province    offer_sum  population  offer_pop_ratio\n",
       "0                     Alberta   4951575.45     4402045         1.124835\n",
       "1            British Columbia  11436599.51     5131575         2.228672\n",
       "2                    Manitoba   3301233.73     1377004         2.397403\n",
       "3               New Brunswick    420930.43      780040         0.539627\n",
       "4   Newfoundland and Labrador    494752.66      523631         0.944850\n",
       "5       Northwest Territories     32838.50       45119         0.727820\n",
       "6                 Nova Scotia   2310325.52      975898         2.367384\n",
       "7                     Nunavut     45000.00       38726         1.162010\n",
       "8                     Ontario  36342149.03    14689075         2.474094\n",
       "9        Prince Edward Island    629170.10      158629         3.966299\n",
       "10                     Québec  10700441.67     8556650         1.250541\n",
       "11               Saskatchewan    749433.19     1179154         0.635569\n",
       "12                      Yukon     27974.50       41731         0.670353"
      ]
     },
     "execution_count": 8,
     "metadata": {},
     "output_type": "execute_result"
    }
   ],
   "source": [
    "province_offer_pop"
   ]
  },
  {
   "cell_type": "code",
   "execution_count": 9,
   "metadata": {},
   "outputs": [
    {
     "data": {
      "text/html": [
       "\n",
       "<div id=\"altair-viz-804171ca9d2a4a309052aace8dc89e32\"></div>\n",
       "<script type=\"text/javascript\">\n",
       "  (function(spec, embedOpt){\n",
       "    let outputDiv = document.currentScript.previousElementSibling;\n",
       "    if (outputDiv.id !== \"altair-viz-804171ca9d2a4a309052aace8dc89e32\") {\n",
       "      outputDiv = document.getElementById(\"altair-viz-804171ca9d2a4a309052aace8dc89e32\");\n",
       "    }\n",
       "    const paths = {\n",
       "      \"vega\": \"https://cdn.jsdelivr.net/npm//vega@5?noext\",\n",
       "      \"vega-lib\": \"https://cdn.jsdelivr.net/npm//vega-lib?noext\",\n",
       "      \"vega-lite\": \"https://cdn.jsdelivr.net/npm//vega-lite@4.8.1?noext\",\n",
       "      \"vega-embed\": \"https://cdn.jsdelivr.net/npm//vega-embed@6?noext\",\n",
       "    };\n",
       "\n",
       "    function loadScript(lib) {\n",
       "      return new Promise(function(resolve, reject) {\n",
       "        var s = document.createElement('script');\n",
       "        s.src = paths[lib];\n",
       "        s.async = true;\n",
       "        s.onload = () => resolve(paths[lib]);\n",
       "        s.onerror = () => reject(`Error loading script: ${paths[lib]}`);\n",
       "        document.getElementsByTagName(\"head\")[0].appendChild(s);\n",
       "      });\n",
       "    }\n",
       "\n",
       "    function showError(err) {\n",
       "      outputDiv.innerHTML = `<div class=\"error\" style=\"color:red;\">${err}</div>`;\n",
       "      throw err;\n",
       "    }\n",
       "\n",
       "    function displayChart(vegaEmbed) {\n",
       "      vegaEmbed(outputDiv, spec, embedOpt)\n",
       "        .catch(err => showError(`Javascript Error: ${err.message}<br>This usually means there's a typo in your chart specification. See the javascript console for the full traceback.`));\n",
       "    }\n",
       "\n",
       "    if(typeof define === \"function\" && define.amd) {\n",
       "      requirejs.config({paths});\n",
       "      require([\"vega-embed\"], displayChart, err => showError(`Error loading script: ${err.message}`));\n",
       "    } else if (typeof vegaEmbed === \"function\") {\n",
       "      displayChart(vegaEmbed);\n",
       "    } else {\n",
       "      loadScript(\"vega\")\n",
       "        .then(() => loadScript(\"vega-lite\"))\n",
       "        .then(() => loadScript(\"vega-embed\"))\n",
       "        .catch(showError)\n",
       "        .then(() => displayChart(vegaEmbed));\n",
       "    }\n",
       "  })({\"config\": {\"view\": {\"continuousWidth\": 400, \"continuousHeight\": 300}}, \"data\": {\"name\": \"data-272af55bb5a5485737c8065f3d98469e\"}, \"mark\": \"bar\", \"encoding\": {\"x\": {\"type\": \"quantitative\", \"field\": \"offer_pop_ratio\"}, \"y\": {\"type\": \"nominal\", \"field\": \"applicant_province\", \"sort\": \"-x\"}}, \"$schema\": \"https://vega.github.io/schema/vega-lite/v4.8.1.json\", \"datasets\": {\"data-272af55bb5a5485737c8065f3d98469e\": [{\"applicant_province\": \"Alberta\", \"offer_sum\": 4951575.449999999, \"population\": 4402045, \"offer_pop_ratio\": 1.1248352640647696}, {\"applicant_province\": \"British Columbia\", \"offer_sum\": 11436599.510000002, \"population\": 5131575, \"offer_pop_ratio\": 2.2286723881069657}, {\"applicant_province\": \"Manitoba\", \"offer_sum\": 3301233.73, \"population\": 1377004, \"offer_pop_ratio\": 2.3974031520605603}, {\"applicant_province\": \"New Brunswick\", \"offer_sum\": 420930.43, \"population\": 780040, \"offer_pop_ratio\": 0.5396267242705503}, {\"applicant_province\": \"Newfoundland and Labrador\", \"offer_sum\": 494752.66, \"population\": 523631, \"offer_pop_ratio\": 0.9448498274548298}, {\"applicant_province\": \"Northwest Territories\", \"offer_sum\": 32838.5, \"population\": 45119, \"offer_pop_ratio\": 0.7278197655089873}, {\"applicant_province\": \"Nova Scotia\", \"offer_sum\": 2310325.5200000005, \"population\": 975898, \"offer_pop_ratio\": 2.3673842143338755}, {\"applicant_province\": \"Nunavut\", \"offer_sum\": 45000.0, \"population\": 38726, \"offer_pop_ratio\": 1.1620100191086091}, {\"applicant_province\": \"Ontario\", \"offer_sum\": 36342149.03, \"population\": 14689075, \"offer_pop_ratio\": 2.474093775816381}, {\"applicant_province\": \"Prince Edward Island\", \"offer_sum\": 629170.1000000001, \"population\": 158629, \"offer_pop_ratio\": 3.966299352577398}, {\"applicant_province\": \"Qu\\u00e9bec\", \"offer_sum\": 10700441.670000004, \"population\": 8556650, \"offer_pop_ratio\": 1.2505410026120038}, {\"applicant_province\": \"Saskatchewan\", \"offer_sum\": 749433.19, \"population\": 1179154, \"offer_pop_ratio\": 0.6355685432097927}, {\"applicant_province\": \"Yukon\", \"offer_sum\": 27974.5, \"population\": 41731, \"offer_pop_ratio\": 0.6703529750065899}]}}, {\"mode\": \"vega-lite\"});\n",
       "</script>"
      ],
      "text/plain": [
       "alt.Chart(...)"
      ]
     },
     "execution_count": 9,
     "metadata": {},
     "output_type": "execute_result"
    }
   ],
   "source": [
    "alt.Chart(province_offer_pop).mark_bar().encode(\n",
    "    x=alt.X(\"offer_pop_ratio\"),\n",
    "    y=alt.Y(\"applicant_province\", sort='-x')\n",
    ")"
   ]
  },
  {
   "cell_type": "code",
   "execution_count": 12,
   "metadata": {},
   "outputs": [],
   "source": [
    "province_offer_pop.to_csv(\"data/processed/offer_population_ratio_edited.csv\", index=False)"
   ]
  },
  {
   "cell_type": "code",
   "execution_count": null,
   "metadata": {},
   "outputs": [],
   "source": []
  }
 ],
 "metadata": {
  "kernelspec": {
   "display_name": "Python [conda env:531]",
   "language": "python",
   "name": "conda-env-531-py"
  },
  "language_info": {
   "codemirror_mode": {
    "name": "ipython",
    "version": 3
   },
   "file_extension": ".py",
   "mimetype": "text/x-python",
   "name": "python",
   "nbconvert_exporter": "python",
   "pygments_lexer": "ipython3",
   "version": "3.8.6"
  }
 },
 "nbformat": 4,
 "nbformat_minor": 4
}
