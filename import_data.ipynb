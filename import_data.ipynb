{
 "cells": [
  {
   "cell_type": "code",
   "execution_count": 56,
   "metadata": {},
   "outputs": [],
   "source": [
    "import pandas as pd"
   ]
  },
  {
   "cell_type": "code",
   "execution_count": 69,
   "metadata": {},
   "outputs": [],
   "source": [
    "# https://www.cleverpdf.com/pdf-to-excel for the conversion from pdf to excel\n",
    "\n",
    "# The number of sheets in the raw xlsx data file\n",
    "num_sheets = 27\n",
    "temp_data = pd.DataFrame()\n",
    "combined_data = pd.DataFrame()\n",
    "\n",
    "# Combine all sheets into one dataframe for cleaning and export\n",
    "for i in range(num_sheets):\n",
    "    temp_data = pd.read_excel(\"data/raw/Final_Recipients_List_April2021.xlsx\", sheet_name=i)\n",
    "    combined_data = pd.concat([combined_data, temp_data])"
   ]
  },
  {
   "cell_type": "code",
   "execution_count": 70,
   "metadata": {},
   "outputs": [],
   "source": [
    "combined_data = combined_data.drop(columns=\"Offer\")\n",
    "combined_data = combined_data.rename(columns={\n",
    "    \"Program\": \"grant_type\", \n",
    "    \"Fiscal Year\": \"year\", \n",
    "    \"Applicant\": \"applicant\",\n",
    "    \"Artist/Project\": \"artist\",\n",
    "    \"Applicant Province\": \"applicant_province\",\n",
    "    \"Artist Province\": \"artist_province\",\n",
    "    \"Offer\": \"offer\",\n",
    "    \"Unnamed: 7\" : \"offer\"\n",
    "})\n",
    "combined_data = combined_data.reset_index(drop=True)"
   ]
  },
  {
   "cell_type": "code",
   "execution_count": 84,
   "metadata": {},
   "outputs": [],
   "source": [
    "combined_data[\"offer\"] = combined_data[\"offer\"].str.replace(\",\", \"\")\n",
    "combined_data[\"offer\"] = pd.to_numeric(combined_data[\"offer\"])"
   ]
  },
  {
   "cell_type": "code",
   "execution_count": 90,
   "metadata": {},
   "outputs": [],
   "source": [
    "combined_data.to_csv(\"data/processed/final_recipients_edited\")"
   ]
  },
  {
   "cell_type": "code",
   "execution_count": null,
   "metadata": {},
   "outputs": [],
   "source": []
  }
 ],
 "metadata": {
  "kernelspec": {
   "display_name": "Python [conda env:531]",
   "language": "python",
   "name": "conda-env-531-py"
  },
  "language_info": {
   "codemirror_mode": {
    "name": "ipython",
    "version": 3
   },
   "file_extension": ".py",
   "mimetype": "text/x-python",
   "name": "python",
   "nbconvert_exporter": "python",
   "pygments_lexer": "ipython3",
   "version": "3.8.6"
  }
 },
 "nbformat": 4,
 "nbformat_minor": 4
}
