{
 "cells": [
  {
   "cell_type": "code",
   "execution_count": 73,
   "metadata": {},
   "outputs": [],
   "source": [
    "import pandas as pd\n",
    "import numpy as np\n",
    "import altair as alt\n",
    "import spotipy\n",
    "from spotipy.oauth2 import SpotifyClientCredentials\n",
    "import unidecode"
   ]
  },
  {
   "cell_type": "code",
   "execution_count": 74,
   "metadata": {},
   "outputs": [],
   "source": [
    "# Read in the processed FACTOR data\n",
    "data = pd.read_csv(\"data/processed/final_recipients_edited.csv\")\n",
    "\n",
    "# A list of artists in their original names and spellings\n",
    "artists_orig = list(data['artist'].unique())\n",
    "\n",
    "# Spotify's API doesn't handle certain characters well so fixing a few special cases\n",
    "data_copy = data.copy()\n",
    "data_copy['artist'] = data_copy['artist'].str.replace('//', '')\n",
    "data_copy['artist'] = data_copy['artist'].str.replace('[¡!]', '')\n",
    "\n",
    "# A list of artists with their edited name (special characters removed)\n",
    "artists_edited = list(data_copy['artist'].unique())\n",
    "\n",
    "# Find the nan entry and remove it\n",
    "for i, a in enumerate(artists_orig):\n",
    "    if not isinstance(a, str):\n",
    "        index=i\n",
    "\n",
    "del artists_orig[index]\n",
    "del artists_edited[index]"
   ]
  },
  {
   "cell_type": "code",
   "execution_count": 75,
   "metadata": {},
   "outputs": [],
   "source": [
    "# These values will change for every user\n",
    "# Go to Spotify for developers to find your own credentials\n",
    "cid = 'a5b5555f2ead41caab9749e59f33a7c9'\n",
    "secret = '4f10606a167f43748ae16b39c1d841c9'"
   ]
  },
  {
   "cell_type": "code",
   "execution_count": 76,
   "metadata": {},
   "outputs": [],
   "source": [
    "client_credentials_manager = SpotifyClientCredentials(client_id=cid, client_secret=secret, requests_timeout=100)\n",
    "sp = spotipy.Spotify(client_credentials_manager=client_credentials_manager)"
   ]
  },
  {
   "cell_type": "code",
   "execution_count": 77,
   "metadata": {},
   "outputs": [
    {
     "name": "stdout",
     "output_type": "stream",
     "text": [
      "Wall time: 3min 31s\n"
     ]
    }
   ],
   "source": [
    "%%time\n",
    "\n",
    "# Find the number of followers and popularity of each artist through spotipy\n",
    "followers = []\n",
    "popularity = []\n",
    "\n",
    "for a in artists_edited:\n",
    "    results = sp.search(q='artist:' + a, type='artist')\n",
    "    match_found = False\n",
    "    \n",
    "    if len(results['artists']['items']) > 0:\n",
    "        for i in range(len(results['artists']['items'])):\n",
    "            # Replace special characters with their regular versions \n",
    "            # and force to lower caps before comparing names\n",
    "            if unidecode.unidecode(results['artists']['items'][i]['name']).lower() == unidecode.unidecode(a).lower():        \n",
    "                followers.append(results['artists']['items'][i]['followers']['total'])\n",
    "                popularity.append(results['artists']['items'][i]['popularity'])\n",
    "                match_found = True\n",
    "                break\n",
    "        \n",
    "        # if there wasn't an artist match in the search results, append zero values\n",
    "        if match_found==False:\n",
    "            followers.append(0)\n",
    "            popularity.append(0)\n",
    "            \n",
    "    # if no search results are returned, append zero values\n",
    "    else:\n",
    "        followers.append(0)\n",
    "        popularity.append(0)"
   ]
  },
  {
   "cell_type": "code",
   "execution_count": 78,
   "metadata": {},
   "outputs": [],
   "source": [
    "data_pop_fol = pd.DataFrame({'artist': artists_orig, 'followers': followers, 'popularity': popularity})\n",
    "\n",
    "# Combine follower/popularity data with the processed data\n",
    "data_merged = data.merge(data_pop_fol, how='inner')\n",
    "\n",
    "# Remove the \"Collective Initiative\" grants which contain organizations\n",
    "data_merged = data_merged.query(\"grant_type != 'Collective Initiatives'\")\n",
    "\n",
    "data_merged = data_merged[~data_merged['offer'].isna()]\n",
    "\n",
    "# Manually remove the outlier James Brown because it's not the famous James Brown\n",
    "data_merged.drop(data_merged.index[data_merged['artist'] == 'James Brown'], inplace = True)"
   ]
  },
  {
   "cell_type": "code",
   "execution_count": 79,
   "metadata": {},
   "outputs": [],
   "source": [
    "# Group by artist and sum up total offer\n",
    "data_grouped = data_merged.groupby(['artist', 'followers', 'popularity'], \n",
    "                                   as_index=False)['offer'].sum()"
   ]
  },
  {
   "cell_type": "code",
   "execution_count": 80,
   "metadata": {},
   "outputs": [],
   "source": [
    "# Export to csv\n",
    "data_grouped.to_csv(\"data/processed/spotify_followers_popularity.csv\", index=False)\n",
    "data_merged.to_csv(\"data/processed/spotify_with_grant_type.csv\", index=False)"
   ]
  }
 ],
 "metadata": {
  "kernelspec": {
   "display_name": "Python [conda env:531]",
   "language": "python",
   "name": "conda-env-531-py"
  },
  "language_info": {
   "codemirror_mode": {
    "name": "ipython",
    "version": 3
   },
   "file_extension": ".py",
   "mimetype": "text/x-python",
   "name": "python",
   "nbconvert_exporter": "python",
   "pygments_lexer": "ipython3",
   "version": "3.8.6"
  }
 },
 "nbformat": 4,
 "nbformat_minor": 4
}
